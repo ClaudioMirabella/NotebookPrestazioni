{
 "cells": [
  {
   "cell_type": "markdown",
   "metadata": {},
   "source": [
    "# Atmosfera Standard\n",
    "Il volo di un velivolo è condizionato dal mezzo in cui si trova ad operare, cioè dalla miscela di gas che costituiscono l'atmosfera del nostro pianeta. Questa miscela di gas è, in media, costituita come segue:\n",
    "\n",
    "* Il $21\\%$ di Ossigeno.\n",
    "* Il $78\\%$ di Azoto. \n",
    "* Tracce di altri gas, come l'anidride carbonica, l'argon e così via.\n",
    "\n",
    "Le condizioni atmosferiche del gas _aria_ vengono determinate dalla combinazione di **Pressione**, **Temperatura** e **Densità**, grandezze che variano in funzione della posizione considerata (sia nel piano terrestre locale che al variare della quota) ed in funzione del tempo. Queste quantità sono di fondamentale importanza poiché **andranno a determinare in maniera significativa le prestazioni finali del velivolo**. Per definire un modello standard di atmosfera accettabile in tutto il Mondo sono stati condotti estensivi campionamenti, a varie quote ed in varie zone del Mondo, dell'atmosfera; il risultato è stata la definizione del modello **I.S.A.** (_International Standard Atmosphere_). Il modello finale dell'atmosfera standard è stato implementato nel 1962, con l'estensione al calcolo delle proprietà atmosferiche anche al di sopra dei $20\\,\\,km$."
   ]
  },
  {
   "cell_type": "markdown",
   "metadata": {},
   "source": [
    "## Pressione\n",
    "La pressione è definita come segue:\n",
    "\n",
    "\\begin{equation*}\n",
    "\\text{Pressione} \\,\\, \\longrightarrow \\,\\, p = \\frac{\\text{Forza}}{\\text{Superficie}} = \\frac{F}{S}\n",
    "\\end{equation*}\n",
    "\n",
    "dove la forza viene misurata in $[N]$ e la superficie viene misurata in $[m^2]$. Il rapporto di queste due quantità, nel sistema internazionale, costituisce una nuova unità di misura, chiamata **Pascal** (dal matematico, fisico e filosofo francese, Blaise Pascal; in simboli, $[Pa]$). Secondo il modello di atmosfera standard, la pressione al livello del mare è pari a $101325\\,\\,Pa$; dunque, la colonna d'aria che impinge su un metro quadro di superficie terrestre ha una massa pari a $10329\\,\\,kg$, supponendo l'accelerazione di gravità costante e pari a $9.6085\\,\\,m/s^2$."
   ]
  },
  {
   "cell_type": "markdown",
   "metadata": {},
   "source": [
    "## Densità\n",
    "La densità rappresenta il rapporto tra la massa di un corpo ed il volume che esso occupa:\n",
    "\n",
    "\\begin{equation*}\n",
    "\\text{Densità} \\,\\, \\longrightarrow \\,\\, \\rho = \\frac{ \\text{Massa} }{ \\text{Volume} } = \\frac{M}{V}\n",
    "\\end{equation*}\n",
    "\n",
    "Come sappiamo dalla fisica elementare, i gas non hanno un volume _proprio_, cioè occupano tutto il volume disponibile all'interno di un certo ambiente chiuso. Considerando un cubetto d'aria con lato di lunghezza pari ad un metro, è possibile definire la densità media dell'aria, secondo il modello standard dell'atmosfera, al livello del mare che è pari a $1.225\\,\\,kg/m^3$."
   ]
  },
  {
   "cell_type": "markdown",
   "metadata": {},
   "source": [
    "## Temperatura\n",
    "Nel modello di atmosfera standard la temperatura viene misurata in Kelvin, la scala assoluta delle temperature nel sistema internazionale; il simbolo assegnato a questa grandezza è $[K]$. Risulta nota la legge con cui la temperatura varia con la quota:\n",
    "\n",
    "\\begin{equation}\n",
    "\\boxed{ T = T_0 - \\frac{dT}{dh} \\cdot h } \n",
    "\\end{equation}\n",
    "\n",
    "dove \n",
    "\n",
    "\\begin{align*}\n",
    "\\text{Lapse Rate} \\,\\, \\longrightarrow \\,\\, \\frac{dT}{dh} &= -6.5\\, \\frac{K}{km} \\\\\n",
    "\\text{Temperatura ad } h=0 \\,\\, \\longrightarrow \\,\\, T_0 &= 288.15\\,K\n",
    "\\end{align*}"
   ]
  },
  {
   "cell_type": "markdown",
   "metadata": {},
   "source": [
    "# Modello dell'atmosfera standard\n",
    "Il modello standard di atmosfera che tratteremo ipotizza che l'aria segua la legge del gas perfetto, $p=\\rho R T$, dove \n",
    "\n",
    "\\begin{equation*}\n",
    "\\text{Specific Gas Constant} \\,\\, \\longrightarrow \\,\\, R_{\\text{air}} = 287.0528\\, \\frac{J}{kg \\cdot K}\n",
    "\\end{equation*}\n",
    "\n",
    "Si può considerare la Legge di Stevino\n",
    "\n",
    "\\begin{equation}\n",
    "\\text{Legge di Stevino} \\,\\, \\longrightarrow \\,\\, \\boxed{dp = - \\rho g dh}\n",
    "\\end{equation}\n",
    "\n",
    "Eliminando la densità grazie alla legge del gas perfetto\n",
    "\n",
    "\\begin{equation}\n",
    "dp = - \\frac{p}{RT} \\cdot g dh \\,\\, \\longrightarrow \\,\\, \\boxed{ \\frac{dp}{p} = -g \\cdot \\frac{dh}{RT} }\n",
    "\\end{equation}\n",
    "\n",
    "Dalla legge della temperatura data in precedenza, indicando con $L$ il _lapse rate_, sappiamo che\n",
    "\n",
    "\\begin{equation*}\n",
    "dT = - L \\cdot dh \\,\\, \\longrightarrow \\,\\, dh = - \\frac{dT}{L}\n",
    "\\end{equation*}\n",
    "\n",
    "Per cui, sostituendo\n",
    "\n",
    "\\begin{equation}\n",
    "\\frac{dp}{p} = g \\cdot \\frac{dT}{LRT}\n",
    "\\end{equation}\n",
    "\n",
    "Ed integrando\n",
    "\n",
    "\\begin{equation*}\n",
    "\\int_{p_0}^{p} \\frac{dp}{p} = \\frac{g}{LR} \\cdot \\int_{T_0}^{T} \\frac{dT}{T}\n",
    "\\end{equation*}\n",
    "\n",
    "cioè\n",
    "\n",
    "\\begin{equation}\n",
    "\\boxed{ \\ln{ \\frac{p}{p_0} } = \\frac{g}{LR} \\cdot \\ln{ \\frac{T}{T_0} } }\n",
    "\\end{equation}\n",
    "\n",
    "Quest'ultima relazione viene, solitamente, riscritta passando agli esponenziali; considerando due _stazioni_ generiche a quote differenti, indicate con $1$ e $2$, si può in definitiva scrivere la seguente:\n",
    "\n",
    "\\begin{equation}\n",
    "\\frac{p_2}{p_1} = \\biggl( \\frac{T_2}{T_1} \\biggr)^{ \\frac{g}{LR} } = \\biggl( \\frac{T_2}{T_1} \\biggr)^{5.256}\n",
    "\\end{equation}"
   ]
  }
 ],
 "metadata": {
  "language_info": {
   "name": "python"
  }
 },
 "nbformat": 4,
 "nbformat_minor": 2
}
