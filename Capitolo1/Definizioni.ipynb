{
 "cells": [
  {
   "cell_type": "markdown",
   "metadata": {},
   "source": [
    "# Alcune utili definizioni \n",
    "Alcune definizioni utili vengono raccolte qui di seguito:\n",
    "\n",
    "### Fluido\n",
    "Liquido o gas le cui proprietà sono quelle di _scorrere_ o _fluire_ sotto l'azione di forze anche piccole.\n",
    "\n",
    "### Linea di corrente\n",
    "Viene detta **linea di corrente** una curva le cui tangenti in ogni punto coincidono con il vettore velocità.\n",
    "\n",
    "### Flusso comprimibile\n",
    "Un flusso in cui la densità cambia da punto a punto viene detto **flusso comprimibile**.\n",
    "\n",
    "### Flusso incomprimibile\n",
    "Un flusso in cui la densità è sempre costante viene detto **incomprimibile**. Nella realtà questa condizione non si verifica mai; tuttavia, i flussi in cui la variazione di densità può essere considerata trascurabile si conviene di assumere $\\rho = \\text{costante}$.\n",
    "\n",
    "### Flusso turbolento\n",
    "Un flusso turbolento è caratterizzato dalla formazione di vortici instabili di varie dimensioni, che interagiscono tra loro in maniera anche molto intensa. In un flusso turbolento si manifestano fluttuazioni probabilistiche nei campi delle grandezze termofluidodinamiche (temperatura, densità, pressione e così via) e cinematiche.\n",
    "\n",
    "### Flusso laminare\n",
    "Un flusso laminare è caratterizzato da linee di corrente che mantengono una separazione parallela ed uniforme.\n",
    "\n",
    "### Viscosità \n",
    "Il parametro **viscosità** esprime in maniera macroscopica le forze interne che vengono a crearsi tra le molecole. Questa grandezza fisica esprime l'attrito _interno_ al fluido e dipende dalla tendenza di ciascun strato adiacente di fluido (o gas) in moto relativo l'uno rispetto all'altro ad opporsi allo scorrimento. Si hanno due diverse viscosità:\n",
    "\n",
    "* **Viscosità Dinamica** $\\mu$. Le unità di misura sono le seguenti:\n",
    "\n",
    "\\begin{equation*}\n",
    "\\frac{ [kg] }{ [m] \\cdot [s] } \\,\\, \\text{oppure} \\,\\, [Pa] \\cdot [s]\n",
    "\\end{equation*}\n",
    "\n",
    "Un fluido che abbia $\\mu = 0$ viene detto **fluido ideale**.\n",
    " \n",
    " * **Viscosità Cinematica** definita dalla seguente espressione:\n",
    "\n",
    " \\begin{equation}\n",
    "\\nu = \\frac{ \\text{Viscosità Dinamica} }{\\text{Densità}} = \\frac{\\mu}{\\rho}\n",
    " \\end{equation}\n",
    "\n",
    " Per cui le unità di misura di $\\nu$ sono le seguenti:\n",
    "\n",
    " \\begin{equation*}\n",
    "    \\frac{ [m^2] }{ [s] }\n",
    " \\end{equation*}\n",
    "\n",
    "### Numero di Reynolds\n",
    "Dall'analisi dimensionale e servendosi del **Teorema di Buckingham** è possibile derivare una serie di parametri adimensionali utilissimi nello studio dei fenomeni tipici della fluidodinamica. Tra questi, useremo frequentemente il **Numero di Reynolds**, definito come segue:\n",
    "\n",
    "\\begin{equation}\n",
    "\\boxed{ \\frac{\\rho \\cdot V \\cdot L}{\\mu} } \\,\\, \\text{oppure} \\,\\, \\boxed{ \\frac{V \\cdot L}{\\nu} }\n",
    "\\end{equation}\n",
    "\n",
    "Dove compaiono le grandezze:\n",
    "\n",
    "\\begin{align*}\n",
    "\\rho &= \\text{Densità dell'aria } \\\\\n",
    "V &= \\text{Velocità di riferimento} \\\\\n",
    "L &= \\text{Lunghezza caratteristica}\n",
    "\\end{align*}\n",
    "\n",
    "Nel caso del flusso intorno ad un cilindro è possibile considerare $L$ pari al diametro del cilindro, per esempio."
   ]
  },
  {
   "cell_type": "markdown",
   "metadata": {},
   "source": [
    "### Portata\n",
    "La portata viene definita come la massa di fluido che attraversa una superficie nell'unità di tempo: \n",
    "\n",
    "\\begin{equation}\n",
    "\\text{Portata} \\,\\, \\longrightarrow \\,\\, \\dot{m} = \\rho V A \n",
    "\\end{equation}\n",
    "\n",
    "Nel sistema internazionale le unità di misura della portata sono $[kg]/[s]$. La portata è strettamente connessa al **principio di conservazione della massa**, il quale impone che la portata del fluido rimanga costante durante il suo moto stazionario. Quindi, considerando due stazioni in sequenza, si può scrivere, nel caso di fluido incomprimibile:\n",
    "\n",
    "\\begin{equation*}\n",
    "\\rho V_1 A_1 = \\rho V_2 A_2 = \\text{costante}\n",
    "\\end{equation*}\n",
    "\n",
    "Risulta chiaro che se $A_2 < A_1$ allora $V_2 > V_1$."
   ]
  },
  {
   "cell_type": "markdown",
   "metadata": {},
   "source": [
    "# Strato Limite\n",
    "Nei flussi reali intorno ad un corpo viene solitamente imposta la **condizione di aderenza**, cioè le particelle di fluido a contatto con la parete solida hanno una velocità nulla. Si ricordi che una particella fluida, sebbene molto piccola, è macroscopicamente composta da un numero di molecole di gas estremamente elevato. Lungo una verticale locale alla parete solida è possibile misurare un **gradiente di velocità**, che consente al fluido di andare dalla velocità nulla a quella del flusso ideale. Questo è il fenomeno dello **strato limite**, nel quale si confinano gli effetti maggiormente rilevanti della viscosità per lo studio della Meccanica del Volo. Si intuisce che maggiore è il Numero di Reynolds $Re$ e più piccola sarà la zona in cui questi effetti sono rilevanti.\n",
    "\n",
    "## Strato Limite laminare e turbolento\n",
    "Lo strato limite può essere:\n",
    "\n",
    "* **Laminare**, in cui il deflusso delle particelle di fluido è sempre ordinato. Lo strato limite laminare viene associato tipicamente ad una bassa resistenza d'attrito, ma presenta caratteristiche sfavorevoli per l'ottenimento di buone qualità di volo per un velivolo. In ogni caso, in condizioni applicative reali, uno strato limite laminare transisce sempre a turbolento molto rapidamente.\n",
    "* **Turbolento**, in cui la variazione delle grandezze termofluidodinamiche è fortemente aleatorio. Lo strato limite turbolento si verifica in ogni condizione normale di volo; è tipicamente più energetico e più stabile. Risulta così più resistente alla separazione."
   ]
  },
  {
   "cell_type": "markdown",
   "metadata": {},
   "source": [
    "# Principio di Reciprocità o Relatività\n",
    "Si consideri un velivolo in moto relativo rispetto all'aria in quiete. Le particelle fluide rimarranno in quiete fino a quando non risentiranno della presenza del corpo. In un sistema di riferimento non solidale al velivolo ogni movimento delle particelle fluide è causato dal moto del velivolo rispetto all'aria, vedendo così il velivolo che si sposta con una certa $V$ e l'aria in quiete. La velocità della corrente indisturbata viene tipicamente detta **velocità asintotica** e si usa il simbolo $V_{\\infty}$. \n",
    "\n",
    "## Prove in galleria del vento\n",
    "In un sistema di riferimento solidale al corpo è più semplice studiare il moto relativo rispetto alla corrente d'aria. Nelle prove sperimentali questo rappresenta la norma; infatti, risulta più comodo eseguire prove sperimentali nelle gallerie aerodinamiche sfruttando questo tipo di sistema di riferimento, sfruttando strumenti disposti in posizione fissata rispetto al modello."
   ]
  }
 ],
 "metadata": {
  "language_info": {
   "name": "python"
  }
 },
 "nbformat": 4,
 "nbformat_minor": 2
}
